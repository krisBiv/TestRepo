{
  "metadata": {
    "kernelspec": {
      "name": "python",
      "display_name": "Python (Pyodide)",
      "language": "python"
    },
    "language_info": {
      "codemirror_mode": {
        "name": "python",
        "version": 3
      },
      "file_extension": ".py",
      "mimetype": "text/x-python",
      "name": "python",
      "nbconvert_exporter": "python",
      "pygments_lexer": "ipython3",
      "version": "3.8"
    }
  },
  "nbformat_minor": 4,
  "nbformat": 4,
  "cells": [
    {
      "cell_type": "markdown",
      "source": "# Data Science Tools and Ecosystem",
      "metadata": {}
    },
    {
      "cell_type": "markdown",
      "source": "In this Notebook, Data Science Tools and Ecosystems are Summarized",
      "metadata": {}
    },
    {
      "cell_type": "markdown",
      "source": "# Some Of The Popular Languages That Data Scientists Use Are:",
      "metadata": {}
    },
    {
      "cell_type": "markdown",
      "source": "1. Python\n2. R\n3. SQL\n4. Scala\n5. Java\n6. Julia",
      "metadata": {}
    },
    {
      "cell_type": "markdown",
      "source": "# Some Of The Commonly Used Libraries Used By Data Scientists Include:",
      "metadata": {}
    },
    {
      "cell_type": "markdown",
      "source": "1. NumPy\n2. Pandas\n3. SciKit-Learn\n4. Matplotlib\n5. Pytorch\n6. ggplot",
      "metadata": {}
    },
    {
      "cell_type": "markdown",
      "source": "# Table Of Commonly Used Data Science Tools:",
      "metadata": {}
    },
    {
      "cell_type": "markdown",
      "source": "|TOOL|DESCRIPTION|\n|-----|----|\n|Jupyter Notebook|-An open-source web application that allows users to create and sahre documents containing live code, equations,visualizations, and narrative text.|\n|Apache Spark|-An open-source, distributed processing system designed for big data workloads.|\n|Power BI|-Is a collection of software services,apps, and connectors that work together to transform data from various sources into coherent, visually immersive, and interactive insights.|                                                                 \n",
      "metadata": {}
    },
    {
      "cell_type": "markdown",
      "source": "# Below Are A Few Examples Of Evaluating Arithmetic Expressions in Python",
      "metadata": {}
    },
    {
      "cell_type": "markdown",
      "source": "This Is A Simple Arithmetic Expression To Multiply Then Add Integers",
      "metadata": {}
    },
    {
      "cell_type": "code",
      "source": "(3*4) +5",
      "metadata": {
        "trusted": true
      },
      "outputs": [
        {
          "execution_count": 17,
          "output_type": "execute_result",
          "data": {
            "text/plain": "17"
          },
          "metadata": {}
        }
      ],
      "execution_count": 17
    },
    {
      "cell_type": "markdown",
      "source": "# Converting Minutes To Hours:",
      "metadata": {}
    },
    {
      "cell_type": "markdown",
      "source": "This Will Convert 200 Minutes To Hours By Diving By 60",
      "metadata": {}
    },
    {
      "cell_type": "code",
      "source": "minutes=200\nhours= (minutes/60)\nprint(f\"{minutes} minutes is equal to {hours} hours\")",
      "metadata": {
        "trusted": true
      },
      "outputs": [
        {
          "name": "stdout",
          "text": "200 minutes is equal to 3.3333333333333335 hours\n",
          "output_type": "stream"
        }
      ],
      "execution_count": 21
    },
    {
      "cell_type": "markdown",
      "source": "# Objective List:",
      "metadata": {}
    },
    {
      "cell_type": "markdown",
      "source": "* Create a Jupyter Notebook.\n* Add and format markdown cells.\n* Write code for basic arithmetic operations.\n* Convert minutes into hours using code.\n* Share the notebook Via GitHub.",
      "metadata": {}
    },
    {
      "cell_type": "markdown",
      "source": "## Author",
      "metadata": {}
    },
    {
      "cell_type": "markdown",
      "source": "Kristie Bivins\n",
      "metadata": {}
    }
  ]
}